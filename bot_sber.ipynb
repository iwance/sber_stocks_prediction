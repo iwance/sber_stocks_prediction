{
 "cells": [
  {
   "cell_type": "code",
   "execution_count": 256,
   "id": "95817479-0dcb-46d8-ac21-cfaacc5c19fb",
   "metadata": {},
   "outputs": [],
   "source": [
    "import requests\n",
    "import pandas as pd\n",
    "import schedule\n",
    "import time\n",
    "from datetime import datetime, timedelta\n",
    "from xgboost import XGBRegressor\n",
    "from datetime import datetime\n",
    "import pandas as pd\n",
    "import os\n",
    "from functools import partial\n",
    "import pickle\n",
    "import numpy as np\n",
    "import time\n",
    "import threading\n",
    "import time\n",
    "import schedule\n",
    "import telebot\n",
    "from telebot import types\n",
    "from aiogram import Bot, Dispatcher"
   ]
  },
  {
   "cell_type": "code",
   "execution_count": 110,
   "id": "5935959b-2f76-4bad-b55a-180f663cc188",
   "metadata": {},
   "outputs": [],
   "source": [
    "with open('model.pkl', 'rb') as f:\n",
    "    model = pickle.load(f)"
   ]
  },
  {
   "cell_type": "code",
   "execution_count": 185,
   "id": "ad609abf-45b3-4bd0-90f0-cb5cbd8d3bff",
   "metadata": {},
   "outputs": [],
   "source": [
    "bot_token = ''\n",
    "bot = telebot.TeleBot(bot_token)"
   ]
  },
  {
   "cell_type": "code",
   "execution_count": 147,
   "id": "491bbd5b-1deb-405d-909b-5e09a706c871",
   "metadata": {},
   "outputs": [],
   "source": [
    "def preprocess_data(df):\n",
    "    df['DATE'] = df['DATE'].astype(str)\n",
    "    df['TIME'] = df['TIME'].astype(str)\n",
    "    df['datetime'] = pd.to_datetime(df['DATE'] + ' ' + df['TIME'], format='%d/%m/%y %H:%M', errors='coerce')\n",
    "    df['datetime'] = pd.to_datetime(df['datetime'])\n",
    "\n",
    "    df['day'] = df['datetime'].dt.day\n",
    "    df['day_of_week'] = df['datetime'].dt.dayofweek\n",
    "\n",
    "    df['Mean_1d'] = df['CLOSE'].rolling(window=24).mean()\n",
    "    df['Max_1d'] = df['CLOSE'].rolling(window=24).max()\n",
    "    df['Min_1d'] = df['CLOSE'].rolling(window=24).min()\n",
    "    df['Std_1d'] = df['CLOSE'].rolling(window=24).std()\n",
    "    df['Range_1d'] = df['Max_1d'] - df['Min_1d']\n",
    "\n",
    "    df['Mean_3d'] = df['CLOSE'].rolling(window=72).mean()\n",
    "    df['Max_3d'] = df['CLOSE'].rolling(window=72).max()\n",
    "    df['Min_3d'] = df['CLOSE'].rolling(window=72).min()\n",
    "    df['Std_3d'] = df['CLOSE'].rolling(window=72).std()\n",
    "    df['Range_3d'] = df['Max_3d'] - df['Min_3d']\n",
    "\n",
    "    df['Mean_7d'] = df['CLOSE'].rolling(window=168).mean()\n",
    "    df['Max_7d'] = df['CLOSE'].rolling(window=168).max()\n",
    "    df['Min_7d'] = df['CLOSE'].rolling(window=168).min()\n",
    "    df['Std_7d'] = df['CLOSE'].rolling(window=168).std()\n",
    "    df['Range_7d'] = df['Max_7d'] - df['Min_7d']\n",
    "\n",
    "    df.bfill(inplace=True) \n",
    "    return df"
   ]
  },
  {
   "cell_type": "code",
   "execution_count": 257,
   "id": "ff1c4863-b50a-40aa-9061-84b3a7d46b77",
   "metadata": {},
   "outputs": [],
   "source": [
    "def make_prediction(df, timestep=56):\n",
    "    X = df.drop(columns=['DATE', 'TIME', 'datetime']).values\n",
    "    X = X[-timestep:] \n",
    "    X = X.reshape(1, -1) \n",
    "\n",
    "    prediction = model.predict(X)\n",
    "    return prediction"
   ]
  },
  {
   "cell_type": "code",
   "execution_count": 258,
   "id": "2e5ac4cb-389e-431b-87a5-cb3e3e137831",
   "metadata": {},
   "outputs": [],
   "source": [
    "def send_prediction(chat_id, prediction):\n",
    "    message = f\"Предсказание: {prediction}\"\n",
    "    bot.send_message(chat_id, message)\n",
    "    print(f\"Отправлено предсказание: {prediction}\")"
   ]
  },
  {
   "cell_type": "code",
   "execution_count": 259,
   "id": "b6453136-f183-43a8-93a8-9e335f2d4b49",
   "metadata": {},
   "outputs": [],
   "source": [
    "def download_sber_data(chat_id):\n",
    "    global df\n",
    "    try:\n",
    "        # Расчет дат\n",
    "        end_date = datetime.today()\n",
    "        start_date = end_date - timedelta(days=11)\n",
    "        \n",
    "        from_date = start_date.strftime(\"%Y%m%d\")\n",
    "        to_date = end_date.strftime(\"%Y%m%d\")\n",
    "        current_datetime = datetime.now()\n",
    "        current_hour = current_datetime.hour\n",
    "        ticker = \"SBER\"\n",
    "        market = 1\n",
    "        period = 7  # 1 час\n",
    "        output_format = 5  # CSV\n",
    "        file_name = f\"{ticker}_{from_date}_{to_date}.csv\"\n",
    "        file_path = file_name  \n",
    "        \n",
    "        url = (\n",
    "            \"https://export.finam.ru/\"\n",
    "            f\"{file_name}?market={market}&em=3&code={ticker}&apply=0&df={start_date.day}&mf={start_date.month-1}&yf={start_date.year}\"\n",
    "            f\"&from={from_date}&dt={end_date.day}&mt={end_date.month-1}&yt={end_date.year}\"\n",
    "            f\"&to={to_date}&p={period}&f={file_name}&e=.csv&cn={ticker}&dtf=5&tmf=4&MSOR=0&mstimever=1&sep=1&sep2=1&datf={output_format}\"\n",
    "        )\n",
    "    \n",
    "        headers = {\n",
    "            \"User-Agent\": \"Mozilla/5.0 (Windows NT 10.0; Win64; x64) AppleWebKit/537.36 (KHTML, like Gecko) Chrome/58.0.3029.110 Safari/537.3\"\n",
    "        }\n",
    "    \n",
    "        response = requests.get(url, headers=headers)\n",
    "        response.raise_for_status()\n",
    "        \n",
    "        with open(file_path, \"wb\") as file:\n",
    "            file.write(response.content)\n",
    "    \n",
    "        df = pd.read_csv(\n",
    "            file_path, \n",
    "            delimiter=',',\n",
    "            names=[\"DATE\", \"TIME\", \"OPEN\", \"HIGH\", \"LOW\", \"CLOSE\", \"VOL\"], \n",
    "            header=0\n",
    "        )\n",
    "        df = preprocess_data(df)\n",
    "        prediction = make_prediction(df)\n",
    "        last_close_price = df['CLOSE'].iloc[-1]\n",
    "\n",
    "        message = f\"Цена закрытия за предыдущий час: {last_close_price} \\nПредикт цены на {current_hour+1}:00 : {prediction[0]}\"\n",
    "        bot.send_message(chat_id, message)\n",
    "        print(f\"Отправлено предсказание: {prediction}\")\n",
    "        \n",
    "        print(f\"Данные загружены в DataFrame\\n{message}\")\n",
    "    \n",
    "    except Exception as e:\n",
    "        print(f\"Ошибка при загрузке и обработке данных: {e}\")"
   ]
  },
  {
   "cell_type": "code",
   "execution_count": null,
   "id": "c3d1053e-60fb-4871-85b5-40e10da1af8a",
   "metadata": {},
   "outputs": [],
   "source": [
    "def schedule_job():\n",
    "    chat_id = 967457055 \n",
    "    \n",
    "    schedule.every().hour.at(\":01\").do(partial(download_sber_data(chat_id), chat_id))  \n",
    "    while True:\n",
    "        schedule.run_pending()\n",
    "        time.sleep(1)\n",
    "\n",
    "if __name__ == \"__main__\":\n",
    "    thread = threading.Thread(target=schedule_job)\n",
    "    thread.start()\n",
    "    \n",
    "    bot.polling(none_stop=True)"
   ]
  },
  {
   "cell_type": "code",
   "execution_count": 255,
   "id": "93f678a1-2be8-478c-84bd-e87a6acb605a",
   "metadata": {},
   "outputs": [
    {
     "name": "stdout",
     "output_type": "stream",
     "text": [
      "Отправлено предсказание: [320.61813]\n",
      "Данные загружены в DataFrame\n",
      "Цена закрытия за предыдущий час: 320.52 \n",
      "Предикт цены на 21:00 : 320.6181335449219\n"
     ]
    }
   ],
   "source": [
    "download_sber_data(967457055)"
   ]
  },
  {
   "cell_type": "code",
   "execution_count": null,
   "id": "8ed4d83e-686b-4dc4-a679-ec7f5fe590e9",
   "metadata": {},
   "outputs": [],
   "source": []
  }
 ],
 "metadata": {
  "kernelspec": {
   "display_name": "Python 3 (ipykernel)",
   "language": "python",
   "name": "python3"
  },
  "language_info": {
   "codemirror_mode": {
    "name": "ipython",
    "version": 3
   },
   "file_extension": ".py",
   "mimetype": "text/x-python",
   "name": "python",
   "nbconvert_exporter": "python",
   "pygments_lexer": "ipython3",
   "version": "3.11.7"
  }
 },
 "nbformat": 4,
 "nbformat_minor": 5
}
